{
 "cells": [
  {
   "cell_type": "markdown",
   "metadata": {},
   "source": [
    "# Analysis of GPCR helices bind\n",
    "*analysis of bend point distribution*\n",
    "* use **alignment_extractor.p** to obtain data"
   ]
  },
  {
   "cell_type": "code",
   "execution_count": 1,
   "metadata": {},
   "outputs": [
    {
     "name": "stdout",
     "output_type": "stream",
     "text": [
      "Populating the interactive namespace from numpy and matplotlib\n"
     ]
    }
   ],
   "source": [
    "import pandas as pd\n",
    "import numpy as np\n",
    "import numpy as np\n",
    "%pylab inline"
   ]
  },
  {
   "cell_type": "code",
   "execution_count": 6,
   "metadata": {
    "scrolled": true
   },
   "outputs": [
    {
     "data": {
      "text/html": [
       "<div>\n",
       "<style scoped>\n",
       "    .dataframe tbody tr th:only-of-type {\n",
       "        vertical-align: middle;\n",
       "    }\n",
       "\n",
       "    .dataframe tbody tr th {\n",
       "        vertical-align: top;\n",
       "    }\n",
       "\n",
       "    .dataframe thead th {\n",
       "        text-align: right;\n",
       "    }\n",
       "</style>\n",
       "<table border=\"1\" class=\"dataframe\">\n",
       "  <thead>\n",
       "    <tr style=\"text-align: right;\">\n",
       "      <th></th>\n",
       "      <th>index</th>\n",
       "      <th>GPCR</th>\n",
       "      <th>Family</th>\n",
       "      <th>Class</th>\n",
       "      <th>Species</th>\n",
       "      <th>pdb_active</th>\n",
       "      <th>pdb_inactive</th>\n",
       "      <th>chain_a</th>\n",
       "      <th>chain_i</th>\n",
       "      <th>TM1_active</th>\n",
       "      <th>...</th>\n",
       "      <th>TM7_best_rotation_axis_a</th>\n",
       "      <th>TM7_best_angle_a</th>\n",
       "      <th>TM7_best_RMSD(T_A)</th>\n",
       "      <th>TM7_pro_point_resi</th>\n",
       "      <th>TM7_pro_rotation_axis_b</th>\n",
       "      <th>TM7_pro_angle_b</th>\n",
       "      <th>TM7_pro_rotation_axis_a</th>\n",
       "      <th>TM7_pro_angle_a</th>\n",
       "      <th>TM7_pro_RMSD(T_A)</th>\n",
       "      <th>TM7_NofPRO</th>\n",
       "    </tr>\n",
       "  </thead>\n",
       "  <tbody>\n",
       "    <tr>\n",
       "      <th>0</th>\n",
       "      <td>0</td>\n",
       "      <td>5-HT2C receptor</td>\n",
       "      <td>5-Hydroxytryptamine receptors</td>\n",
       "      <td>Class A (Rhodopsin)</td>\n",
       "      <td>Human</td>\n",
       "      <td>6bqg</td>\n",
       "      <td>6bqh</td>\n",
       "      <td>A</td>\n",
       "      <td>A</td>\n",
       "      <td>60-81</td>\n",
       "      <td>...</td>\n",
       "      <td>(0.170366181253, 0.260404652236, 0.569229166512)</td>\n",
       "      <td>5.129634</td>\n",
       "      <td>0.401448</td>\n",
       "      <td>365</td>\n",
       "      <td>(0.238040545216, 0.221324292534, 0.54063516225)</td>\n",
       "      <td>5.3198292925</td>\n",
       "      <td>(0.0355626418953, 0.144841510546, 0.819595847559)</td>\n",
       "      <td>6.7240913608</td>\n",
       "      <td>0.5604037642</td>\n",
       "      <td>1</td>\n",
       "    </tr>\n",
       "    <tr>\n",
       "      <th>1</th>\n",
       "      <td>1</td>\n",
       "      <td>M2 receptor</td>\n",
       "      <td>Acetylcholine receptors (muscarinic)</td>\n",
       "      <td>Class A (Rhodopsin)</td>\n",
       "      <td>Human</td>\n",
       "      <td>4mqs</td>\n",
       "      <td>3uon</td>\n",
       "      <td>A</td>\n",
       "      <td>A</td>\n",
       "      <td>19-51</td>\n",
       "      <td>...</td>\n",
       "      <td>(0.368904064944, 0.201095490638, 0.430000444418)</td>\n",
       "      <td>10.293347</td>\n",
       "      <td>0.377222</td>\n",
       "      <td>437</td>\n",
       "      <td>(0.400795504656, 0.443399974677, 0.155804520667)</td>\n",
       "      <td>6.6982731328</td>\n",
       "      <td>(0.0526270980276, 0.0675107699761, 0.879862131...</td>\n",
       "      <td>34.3429738199</td>\n",
       "      <td>0.4376085103</td>\n",
       "      <td>2</td>\n",
       "    </tr>\n",
       "    <tr>\n",
       "      <th>2</th>\n",
       "      <td>2</td>\n",
       "      <td>M2 receptor</td>\n",
       "      <td>Acetylcholine receptors (muscarinic)</td>\n",
       "      <td>Class A (Rhodopsin)</td>\n",
       "      <td>Human</td>\n",
       "      <td>4mqt</td>\n",
       "      <td>3uon</td>\n",
       "      <td>A</td>\n",
       "      <td>A</td>\n",
       "      <td>19-51</td>\n",
       "      <td>...</td>\n",
       "      <td>(0.391791017313, 0.20417941822, 0.404029564467)</td>\n",
       "      <td>11.548836</td>\n",
       "      <td>0.376961</td>\n",
       "      <td>437</td>\n",
       "      <td>(0.408377435264, 0.366528888374, 0.225093676363)</td>\n",
       "      <td>7.8024284448</td>\n",
       "      <td>(0.00182583030513, 0.0966531080331, 0.90152106...</td>\n",
       "      <td>37.4121218977</td>\n",
       "      <td>0.4125374854</td>\n",
       "      <td>2</td>\n",
       "    </tr>\n",
       "    <tr>\n",
       "      <th>3</th>\n",
       "      <td>3</td>\n",
       "      <td>A2A receptor</td>\n",
       "      <td>Adenosine receptors</td>\n",
       "      <td>Class A (Rhodopsin)</td>\n",
       "      <td>Human</td>\n",
       "      <td>5g53</td>\n",
       "      <td>3eml</td>\n",
       "      <td>A</td>\n",
       "      <td>A</td>\n",
       "      <td>2-34</td>\n",
       "      <td>...</td>\n",
       "      <td>(0.0109754002083, 0.659889575814, 0.329135023978)</td>\n",
       "      <td>40.232861</td>\n",
       "      <td>0.525664</td>\n",
       "      <td>285</td>\n",
       "      <td>(0.285904751747, 0.299824009386, 0.414271238867)</td>\n",
       "      <td>2.7091331871</td>\n",
       "      <td>(0.232200101486, 0.276824446308, 0.490975452206)</td>\n",
       "      <td>32.6843457733</td>\n",
       "      <td>0.5683220029</td>\n",
       "      <td>2</td>\n",
       "    </tr>\n",
       "    <tr>\n",
       "      <th>4</th>\n",
       "      <td>4</td>\n",
       "      <td>A2A receptor</td>\n",
       "      <td>Adenosine receptors</td>\n",
       "      <td>Class A (Rhodopsin)</td>\n",
       "      <td>Human</td>\n",
       "      <td>5g53</td>\n",
       "      <td>3pwh</td>\n",
       "      <td>A</td>\n",
       "      <td>A</td>\n",
       "      <td>2-34</td>\n",
       "      <td>...</td>\n",
       "      <td>(0.0224804090648, 0.0692652480798, 0.908254342...</td>\n",
       "      <td>6.732151</td>\n",
       "      <td>0.762531</td>\n",
       "      <td>285</td>\n",
       "      <td>(0.421252338736, 0.280036370631, 0.298711290633)</td>\n",
       "      <td>4.7321377344</td>\n",
       "      <td>(0.103416599055, 0.439680754787, 0.456902646158)</td>\n",
       "      <td>36.362527849</td>\n",
       "      <td>0.7725219727</td>\n",
       "      <td>2</td>\n",
       "    </tr>\n",
       "  </tbody>\n",
       "</table>\n",
       "<p>5 rows × 128 columns</p>\n",
       "</div>"
      ],
      "text/plain": [
       "   index             GPCR                                Family  \\\n",
       "0      0  5-HT2C receptor         5-Hydroxytryptamine receptors   \n",
       "1      1      M2 receptor  Acetylcholine receptors (muscarinic)   \n",
       "2      2      M2 receptor  Acetylcholine receptors (muscarinic)   \n",
       "3      3     A2A receptor                   Adenosine receptors   \n",
       "4      4     A2A receptor                   Adenosine receptors   \n",
       "\n",
       "                 Class Species pdb_active pdb_inactive chain_a chain_i  \\\n",
       "0  Class A (Rhodopsin)   Human       6bqg         6bqh       A       A   \n",
       "1  Class A (Rhodopsin)   Human       4mqs         3uon       A       A   \n",
       "2  Class A (Rhodopsin)   Human       4mqt         3uon       A       A   \n",
       "3  Class A (Rhodopsin)   Human       5g53        3eml        A       A   \n",
       "4  Class A (Rhodopsin)   Human       5g53        3pwh        A       A   \n",
       "\n",
       "  TM1_active    ...                               TM7_best_rotation_axis_a  \\\n",
       "0      60-81    ...       (0.170366181253, 0.260404652236, 0.569229166512)   \n",
       "1      19-51    ...       (0.368904064944, 0.201095490638, 0.430000444418)   \n",
       "2      19-51    ...        (0.391791017313, 0.20417941822, 0.404029564467)   \n",
       "3       2-34    ...      (0.0109754002083, 0.659889575814, 0.329135023978)   \n",
       "4       2-34    ...      (0.0224804090648, 0.0692652480798, 0.908254342...   \n",
       "\n",
       "  TM7_best_angle_a TM7_best_RMSD(T_A) TM7_pro_point_resi  \\\n",
       "0         5.129634           0.401448                365   \n",
       "1        10.293347           0.377222                437   \n",
       "2        11.548836           0.376961                437   \n",
       "3        40.232861           0.525664                285   \n",
       "4         6.732151           0.762531                285   \n",
       "\n",
       "                            TM7_pro_rotation_axis_b TM7_pro_angle_b  \\\n",
       "0   (0.238040545216, 0.221324292534, 0.54063516225)    5.3198292925   \n",
       "1  (0.400795504656, 0.443399974677, 0.155804520667)    6.6982731328   \n",
       "2  (0.408377435264, 0.366528888374, 0.225093676363)    7.8024284448   \n",
       "3  (0.285904751747, 0.299824009386, 0.414271238867)    2.7091331871   \n",
       "4  (0.421252338736, 0.280036370631, 0.298711290633)    4.7321377344   \n",
       "\n",
       "                             TM7_pro_rotation_axis_a TM7_pro_angle_a  \\\n",
       "0  (0.0355626418953, 0.144841510546, 0.819595847559)    6.7240913608   \n",
       "1  (0.0526270980276, 0.0675107699761, 0.879862131...   34.3429738199   \n",
       "2  (0.00182583030513, 0.0966531080331, 0.90152106...   37.4121218977   \n",
       "3   (0.232200101486, 0.276824446308, 0.490975452206)   32.6843457733   \n",
       "4   (0.103416599055, 0.439680754787, 0.456902646158)    36.362527849   \n",
       "\n",
       "  TM7_pro_RMSD(T_A) TM7_NofPRO  \n",
       "0      0.5604037642          1  \n",
       "1      0.4376085103          2  \n",
       "2      0.4125374854          2  \n",
       "3      0.5683220029          2  \n",
       "4      0.7725219727          2  \n",
       "\n",
       "[5 rows x 128 columns]"
      ]
     },
     "execution_count": 6,
     "metadata": {},
     "output_type": "execute_result"
    }
   ],
   "source": [
    "data_pair = pd.read_csv('GPCR-TM-table-identity-resis-pair.csv', index_col=None)\n",
    "data.head()"
   ]
  },
  {
   "cell_type": "markdown",
   "metadata": {},
   "source": [
    "## Dataset preparation\n",
    "*Returns dataset with relaive position of rotation points*"
   ]
  },
  {
   "cell_type": "code",
   "execution_count": 15,
   "metadata": {},
   "outputs": [],
   "source": [
    "def get_calc_df(tm, data):\n",
    "    \n",
    "    diff = []\n",
    "    family_names = []\n",
    "    n_of_pro = []\n",
    "    names_inactive = []\n",
    "    names_active = []\n",
    "    best_resis = []\n",
    "    pro_resis = []\n",
    "    \n",
    "    tm_name = 'TM' + str(tm) + '_'\n",
    "    \n",
    "    for idx in data['index']:\n",
    "        \n",
    "        if data[tm_name + 'pro_rotation_axis_b'][idx] != 'noPRO':\n",
    "            diff.append(int(data[tm_name + 'best_point_resi'][idx]) - int(data[tm_name + 'pro_point_resi'][idx]))\n",
    "            family_names.append(data['Family'][idx].decode('utf-8'))\n",
    "            n_of_pro.append(float(data[tm_name + 'NofPRO'][idx]))\n",
    "            names_inactive.append(data['pdb_inactive'][idx])\n",
    "            names_active.append(data['pdb_active'][idx])\n",
    "            best_resis.append(int(data[tm_name + 'best_point_resi'][idx]))\n",
    "            pro_resis.append(int(data[tm_name + 'pro_point_resi'][idx]))\n",
    "        \n",
    "    diff = np.array(diff)\n",
    "    family_names = np.array(family_names)\n",
    "    n_of_pro = np.array(n_of_pro)\n",
    "    names_active = np.array(names_active)\n",
    "    names_inactive = np.array(names_inactive)\n",
    "    pro_resis = np.array(pro_resis)\n",
    "    best_resis = np.array(best_resis)\n",
    "    \n",
    "    calc = pd.DataFrame({'pdb_active': names_active, 'pdb_inactive': names_inactive, 'N_of_PRO': n_of_pro, 'Family': family_names, 'best-pro_TM' + str(tm): diff, 'best_point_resi': best_resis, 'pro_point_resi': pro_resis})\n",
    "    return calc"
   ]
  },
  {
   "cell_type": "markdown",
   "metadata": {},
   "source": [
    "## Histogramm Analysis\n",
    "### Histogramms of distance between best rotation point and proline rotation point"
   ]
  },
  {
   "cell_type": "code",
   "execution_count": 8,
   "metadata": {},
   "outputs": [
    {
     "data": {
      "image/png": "[encoded data removed]",
      "text/plain": [
       "<Figure size 432x288 with 1 Axes>"
      ]
     },
     "metadata": {},
     "output_type": "display_data"
    },
    {
     "data": {
      "image/png": "[encoded data removed]",
      "text/plain": [
       "<Figure size 432x288 with 1 Axes>"
      ]
     },
     "metadata": {},
     "output_type": "display_data"
    },
    {
     "data": {
      "image/png": "[encoded data removed]",
      "text/plain": [
       "<Figure size 432x288 with 1 Axes>"
      ]
     },
     "metadata": {},
     "output_type": "display_data"
    },
    {
     "data": {
      "image/png": "[encoded data removed]",
      "text/plain": [
       "<Figure size 432x288 with 1 Axes>"
      ]
     },
     "metadata": {},
     "output_type": "display_data"
    },
    {
     "data": {
      "image/png": "[encoded data removed]",
      "text/plain": [
       "<Figure size 432x288 with 1 Axes>"
      ]
     },
     "metadata": {},
     "output_type": "display_data"
    },
    {
     "data": {
      "image/png": "[encoded data removed]",
      "text/plain": [
       "<Figure size 432x288 with 1 Axes>"
      ]
     },
     "metadata": {},
     "output_type": "display_data"
    },
    {
     "data": {
      "image/png": "[encoded data removed]",
      "text/plain": [
       "<Figure size 432x288 with 1 Axes>"
      ]
     },
     "metadata": {},
     "output_type": "display_data"
    }
   ],
   "source": [
    "for tm in range (1, 8):\n",
    "    result_data = get_calc_df(tm, data_pair)\n",
    "    result_data.hist(column='best-pro_TM' + str(tm))\n",
    "\n",
    "#    plt.savefig('/home/andrew/Documents/Diploma/GPCRSampling/images/best-pro_TM_new' + str(tm) + '.png', dpi=150, format='png')"
   ]
  },
  {
   "cell_type": "markdown",
   "metadata": {},
   "source": [
    "### Bad distributed GPCRs analysis"
   ]
  },
  {
   "cell_type": "code",
   "execution_count": 16,
   "metadata": {},
   "outputs": [],
   "source": [
    "df_tm5 = get_calc_df(5, data_pair)\n",
    "df_tm7 = get_calc_df(7, data_pair)"
   ]
  },
  {
   "cell_type": "code",
   "execution_count": 17,
   "metadata": {},
   "outputs": [
    {
     "data": {
      "text/html": [
       "<div>\n",
       "<style scoped>\n",
       "    .dataframe tbody tr th:only-of-type {\n",
       "        vertical-align: middle;\n",
       "    }\n",
       "\n",
       "    .dataframe tbody tr th {\n",
       "        vertical-align: top;\n",
       "    }\n",
       "\n",
       "    .dataframe thead th {\n",
       "        text-align: right;\n",
       "    }\n",
       "</style>\n",
       "<table border=\"1\" class=\"dataframe\">\n",
       "  <thead>\n",
       "    <tr style=\"text-align: right;\">\n",
       "      <th></th>\n",
       "      <th>Family</th>\n",
       "      <th>N_of_PRO</th>\n",
       "      <th>best-pro_TM5</th>\n",
       "      <th>best_point_resi</th>\n",
       "      <th>pdb_active</th>\n",
       "      <th>pdb_inactive</th>\n",
       "      <th>pro_point_resi</th>\n",
       "    </tr>\n",
       "  </thead>\n",
       "  <tbody>\n",
       "    <tr>\n",
       "      <th>9</th>\n",
       "      <td>Adenosine receptors</td>\n",
       "      <td>2.0</td>\n",
       "      <td>12</td>\n",
       "      <td>201</td>\n",
       "      <td>5g53</td>\n",
       "      <td>3vg9</td>\n",
       "      <td>189</td>\n",
       "    </tr>\n",
       "    <tr>\n",
       "      <th>10</th>\n",
       "      <td>Adenosine receptors</td>\n",
       "      <td>2.0</td>\n",
       "      <td>12</td>\n",
       "      <td>201</td>\n",
       "      <td>5g53</td>\n",
       "      <td>3vga</td>\n",
       "      <td>189</td>\n",
       "    </tr>\n",
       "    <tr>\n",
       "      <th>11</th>\n",
       "      <td>Adenosine receptors</td>\n",
       "      <td>2.0</td>\n",
       "      <td>11</td>\n",
       "      <td>200</td>\n",
       "      <td>5g53</td>\n",
       "      <td>4eiy</td>\n",
       "      <td>189</td>\n",
       "    </tr>\n",
       "    <tr>\n",
       "      <th>17</th>\n",
       "      <td>Adenosine receptors</td>\n",
       "      <td>2.0</td>\n",
       "      <td>11</td>\n",
       "      <td>200</td>\n",
       "      <td>5g53</td>\n",
       "      <td>5jtb</td>\n",
       "      <td>189</td>\n",
       "    </tr>\n",
       "    <tr>\n",
       "      <th>18</th>\n",
       "      <td>Adenosine receptors</td>\n",
       "      <td>2.0</td>\n",
       "      <td>11</td>\n",
       "      <td>200</td>\n",
       "      <td>5g53</td>\n",
       "      <td>5k2a</td>\n",
       "      <td>189</td>\n",
       "    </tr>\n",
       "    <tr>\n",
       "      <th>20</th>\n",
       "      <td>Adenosine receptors</td>\n",
       "      <td>2.0</td>\n",
       "      <td>11</td>\n",
       "      <td>200</td>\n",
       "      <td>5g53</td>\n",
       "      <td>5k2c</td>\n",
       "      <td>189</td>\n",
       "    </tr>\n",
       "    <tr>\n",
       "      <th>22</th>\n",
       "      <td>Adenosine receptors</td>\n",
       "      <td>2.0</td>\n",
       "      <td>11</td>\n",
       "      <td>200</td>\n",
       "      <td>5g53</td>\n",
       "      <td>5mzj</td>\n",
       "      <td>189</td>\n",
       "    </tr>\n",
       "    <tr>\n",
       "      <th>33</th>\n",
       "      <td>Adenosine receptors</td>\n",
       "      <td>2.0</td>\n",
       "      <td>11</td>\n",
       "      <td>200</td>\n",
       "      <td>5g53</td>\n",
       "      <td>5uvi</td>\n",
       "      <td>189</td>\n",
       "    </tr>\n",
       "    <tr>\n",
       "      <th>34</th>\n",
       "      <td>Adenosine receptors</td>\n",
       "      <td>2.0</td>\n",
       "      <td>11</td>\n",
       "      <td>200</td>\n",
       "      <td>5g53</td>\n",
       "      <td>5vra</td>\n",
       "      <td>189</td>\n",
       "    </tr>\n",
       "    <tr>\n",
       "      <th>57</th>\n",
       "      <td>Adrenoceptors</td>\n",
       "      <td>1.0</td>\n",
       "      <td>11</td>\n",
       "      <td>222</td>\n",
       "      <td>4lde</td>\n",
       "      <td>3kj6</td>\n",
       "      <td>211</td>\n",
       "    </tr>\n",
       "    <tr>\n",
       "      <th>59</th>\n",
       "      <td>Adrenoceptors</td>\n",
       "      <td>1.0</td>\n",
       "      <td>11</td>\n",
       "      <td>222</td>\n",
       "      <td>4ldo</td>\n",
       "      <td>3kj6</td>\n",
       "      <td>211</td>\n",
       "    </tr>\n",
       "    <tr>\n",
       "      <th>60</th>\n",
       "      <td>Adrenoceptors</td>\n",
       "      <td>1.0</td>\n",
       "      <td>11</td>\n",
       "      <td>222</td>\n",
       "      <td>4qkx</td>\n",
       "      <td>3kj6</td>\n",
       "      <td>211</td>\n",
       "    </tr>\n",
       "    <tr>\n",
       "      <th>81</th>\n",
       "      <td>Adrenoceptors</td>\n",
       "      <td>1.0</td>\n",
       "      <td>11</td>\n",
       "      <td>222</td>\n",
       "      <td>3p0g</td>\n",
       "      <td>5d5a</td>\n",
       "      <td>211</td>\n",
       "    </tr>\n",
       "    <tr>\n",
       "      <th>106</th>\n",
       "      <td>Glucagon receptor family</td>\n",
       "      <td>1.0</td>\n",
       "      <td>11</td>\n",
       "      <td>323</td>\n",
       "      <td>5nx2</td>\n",
       "      <td>5vew</td>\n",
       "      <td>312</td>\n",
       "    </tr>\n",
       "    <tr>\n",
       "      <th>107</th>\n",
       "      <td>Neurotensin receptors</td>\n",
       "      <td>1.0</td>\n",
       "      <td>11</td>\n",
       "      <td>260</td>\n",
       "      <td>5t04</td>\n",
       "      <td>3zev</td>\n",
       "      <td>249</td>\n",
       "    </tr>\n",
       "    <tr>\n",
       "      <th>108</th>\n",
       "      <td>Neurotensin receptors</td>\n",
       "      <td>1.0</td>\n",
       "      <td>11</td>\n",
       "      <td>260</td>\n",
       "      <td>5t04</td>\n",
       "      <td>4buo</td>\n",
       "      <td>249</td>\n",
       "    </tr>\n",
       "    <tr>\n",
       "      <th>110</th>\n",
       "      <td>Neurotensin receptors</td>\n",
       "      <td>1.0</td>\n",
       "      <td>13</td>\n",
       "      <td>262</td>\n",
       "      <td>5t04</td>\n",
       "      <td>4bwb</td>\n",
       "      <td>249</td>\n",
       "    </tr>\n",
       "  </tbody>\n",
       "</table>\n",
       "</div>"
      ],
      "text/plain": [
       "                       Family  N_of_PRO  best-pro_TM5  best_point_resi  \\\n",
       "9         Adenosine receptors       2.0            12              201   \n",
       "10        Adenosine receptors       2.0            12              201   \n",
       "11        Adenosine receptors       2.0            11              200   \n",
       "17        Adenosine receptors       2.0            11              200   \n",
       "18        Adenosine receptors       2.0            11              200   \n",
       "20        Adenosine receptors       2.0            11              200   \n",
       "22        Adenosine receptors       2.0            11              200   \n",
       "33        Adenosine receptors       2.0            11              200   \n",
       "34        Adenosine receptors       2.0            11              200   \n",
       "57              Adrenoceptors       1.0            11              222   \n",
       "59              Adrenoceptors       1.0            11              222   \n",
       "60              Adrenoceptors       1.0            11              222   \n",
       "81              Adrenoceptors       1.0            11              222   \n",
       "106  Glucagon receptor family       1.0            11              323   \n",
       "107     Neurotensin receptors       1.0            11              260   \n",
       "108     Neurotensin receptors       1.0            11              260   \n",
       "110     Neurotensin receptors       1.0            13              262   \n",
       "\n",
       "    pdb_active pdb_inactive  pro_point_resi  \n",
       "9         5g53        3vg9              189  \n",
       "10        5g53        3vga              189  \n",
       "11        5g53        4eiy              189  \n",
       "17        5g53        5jtb              189  \n",
       "18        5g53        5k2a              189  \n",
       "20        5g53        5k2c              189  \n",
       "22        5g53        5mzj              189  \n",
       "33        5g53        5uvi              189  \n",
       "34        5g53        5vra              189  \n",
       "57       4lde         3kj6              211  \n",
       "59       4ldo         3kj6              211  \n",
       "60       4qkx         3kj6              211  \n",
       "81       3p0g         5d5a              211  \n",
       "106      5nx2         5vew              312  \n",
       "107      5t04         3zev              249  \n",
       "108      5t04         4buo              249  \n",
       "110      5t04         4bwb              249  "
      ]
     },
     "execution_count": 17,
     "metadata": {},
     "output_type": "execute_result"
    }
   ],
   "source": [
    "df_test = df_tm5[df_tm5['best-pro_TM5'] > 10]\n",
    "df_test"
   ]
  },
  {
   "cell_type": "markdown",
   "metadata": {},
   "source": [
    "### Histogram of RMSD distribution"
   ]
  },
  {
   "cell_type": "code",
   "execution_count": 5,
   "metadata": {
    "scrolled": false
   },
   "outputs": [
    {
     "data": {
      "image/png": "[encoded data removed]",
      "text/plain": [
       "<Figure size 360x360 with 1 Axes>"
      ]
     },
     "metadata": {},
     "output_type": "display_data"
    },
    {
     "data": {
      "image/png": "[encoded data removed]",
      "text/plain": [
       "<Figure size 360x360 with 1 Axes>"
      ]
     },
     "metadata": {},
     "output_type": "display_data"
    },
    {
     "data": {
      "image/png": "[encoded data removed]",
      "text/plain": [
       "<Figure size 360x360 with 1 Axes>"
      ]
     },
     "metadata": {},
     "output_type": "display_data"
    },
    {
     "data": {
      "image/png": "[encoded data removed]",
      "text/plain": [
       "<Figure size 360x360 with 1 Axes>"
      ]
     },
     "metadata": {},
     "output_type": "display_data"
    },
    {
     "data": {
      "image/png": "[encoded data removed]",
      "text/plain": [
       "<Figure size 360x360 with 1 Axes>"
      ]
     },
     "metadata": {},
     "output_type": "display_data"
    },
    {
     "data": {
      "image/png": "[encoded data removed]",
      "text/plain": [
       "<Figure size 360x360 with 1 Axes>"
      ]
     },
     "metadata": {},
     "output_type": "display_data"
    },
    {
     "data": {
      "image/png": "[encoded data removed]",
      "text/plain": [
       "<Figure size 360x360 with 1 Axes>"
      ]
     },
     "metadata": {},
     "output_type": "display_data"
    }
   ],
   "source": [
    "for tm in range (1, 8):\n",
    "    name = 'TM' + str(tm) + '_RMSD(I_A)'\n",
    "    data.hist(column=name, figsize=(5, 5))\n",
    "#    plt.savefig('/home/andrew/Documents/Diploma/GPCRSampling/images/RMSD_I_A_old' + str(tm) + '.png', dpi=150, format='png')"
   ]
  }
 ],
 "metadata": {
  "kernelspec": {
   "display_name": "Python 2",
   "language": "python",
   "name": "python2"
  },
  "language_info": {
   "codemirror_mode": {
    "name": "ipython",
    "version": 2
   },
   "file_extension": ".py",
   "mimetype": "text/x-python",
   "name": "python",
   "nbconvert_exporter": "python",
   "pygments_lexer": "ipython2",
   "version": "2.7.12"
  }
 },
 "nbformat": 4,
 "nbformat_minor": 2
}
